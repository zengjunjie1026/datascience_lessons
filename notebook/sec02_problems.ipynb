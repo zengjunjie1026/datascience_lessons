{
 "cells": [
  {
   "cell_type": "markdown",
   "id": "1ca9faff",
   "metadata": {},
   "source": [
    "# 0 Introduction\n",
    "The following exercise is based on Tarn Duong, [\"An Introduction to Kernel Density Estimation.\"](https://www.mvstat.net/tduong/research/seminars/seminar-2001-05/) Run the code in the next cell, which loads a sample of the log wingspans of aircraft built from 1956 to 1984 (original wingspans were in meters). Assume the data are sampled from a continuous distribution with a bimodal density, where the peaks in the density represent the modal log wingspans of small and large aircraft respectively."
   ]
  },
  {
   "cell_type": "code",
   "execution_count": 1,
   "id": "f30345e7",
   "metadata": {},
   "outputs": [],
   "source": [
    "import numpy as np\n",
    "wings = np.array([2.05, 2.20, 2.35, 2.40, 2.45, 2.60, 2.65, 2.70, 3.35, 3.40, 3.60, 3.90])"
   ]
  },
  {
   "cell_type": "markdown",
   "id": "074594b3",
   "metadata": {},
   "source": [
    "# 1 Histograms\n",
    "Histograms are dependent on bin width as well as bin boundaries. Varying either of these can cause features of the distribution from which a sample is drawn to appear or to become obscured. With the present dataset, we may gain or lose the appearance of bimodality.\n",
    "    \n",
    "- Plot a histogram of the data using bins of width 0.50, where the first bin is [1.00, 1.50).\n",
    "- Plot a histogram of the data using bins of width 0.50, where the first bin is [1.25, 1.75)."
   ]
  },
  {
   "cell_type": "code",
   "execution_count": 2,
   "id": "302fcd94",
   "metadata": {},
   "outputs": [
    {
     "data": {
      "text/plain": [
       "(array([2., 2., 2., 2., 0., 0., 0., 2., 1., 1.]),\n",
       " array([2.05 , 2.235, 2.42 , 2.605, 2.79 , 2.975, 3.16 , 3.345, 3.53 ,\n",
       "        3.715, 3.9  ]),\n",
       " <BarContainer object of 10 artists>)"
      ]
     },
     "execution_count": 2,
     "metadata": {},
     "output_type": "execute_result"
    },
    {
     "data": {
      "image/png": "[encoded data removed]",
      "text/plain": [
       "<Figure size 432x288 with 1 Axes>"
      ]
     },
     "metadata": {
      "needs_background": "light"
     },
     "output_type": "display_data"
    }
   ],
   "source": [
    "from matplotlib import pyplot as plt\n",
    "plt.hist(wings,bins=10)"
   ]
  },
  {
   "cell_type": "markdown",
   "id": "4c0c2786",
   "metadata": {},
   "source": [
    "# 2 Uniform Kernel Density Estimation\n",
    "An advantage of kernel density estimation is that it does not depend on bin boundaries. It does however depend on bandwidth, which is an analogue of bin width.\n",
    "\n",
    "- Manually implement a function that returns a uniform kernel density estimate given a vector of data and a bandwidth.\n",
    "- Find a bandwidth that makes bimodality apparent and plot the results. State where the two modes appear to be."
   ]
  },
  {
   "cell_type": "code",
   "execution_count": null,
   "id": "0d640ee5",
   "metadata": {},
   "outputs": [],
   "source": []
  },
  {
   "cell_type": "markdown",
   "id": "00982e6a",
   "metadata": {},
   "source": [
    "# 3 Gaussian Kernel Density Estimation\n",
    "\n",
    "This part repeats 2. but with Gaussian kernels. An advantage of Gaussian kernels over uniform kernels is that they result in a smoother estimated density curve.\n",
    "\n",
    "- Manually implement a function that returns a Gaussian kernel density estimate given a vector of data and a bandwidth.\n",
    "- Find a bandwidth that makes bimodality apparent and plot the results. State where the two modes appear to be."
   ]
  },
  {
   "cell_type": "code",
   "execution_count": null,
   "id": "f756abc5",
   "metadata": {},
   "outputs": [],
   "source": []
  },
  {
   "cell_type": "markdown",
   "id": "a0c2302f",
   "metadata": {},
   "source": [
    "# 4 Rejection Sampling\n",
    "We will now attempt to sample from the Gaussian kernel density estimate. Read the first two pages of [this paper](https://academic.oup.com/biomet/article/89/4/745/242234) up to algorithm 2, empirical supremum rejection sampling. Implement a procedure that performs empirical supremum rejection sampling on the Gaussian kernel density estimate and plots a histogram of the resulting sample. Tune the parameters of the procedure to get the histogram to resemble the Gaussian kernel density estimate."
   ]
  },
  {
   "cell_type": "code",
   "execution_count": null,
   "id": "8c9a6062",
   "metadata": {
    "scrolled": false
   },
   "outputs": [],
   "source": []
  }
 ],
 "metadata": {
  "kernelspec": {
   "display_name": "python3.8.4",
   "language": "python",
   "name": "python3.8.4"
  },
  "language_info": {
   "codemirror_mode": {
    "name": "ipython",
    "version": 3
   },
   "file_extension": ".py",
   "mimetype": "text/x-python",
   "name": "python",
   "nbconvert_exporter": "python",
   "pygments_lexer": "ipython3",
   "version": "3.8.4"
  }
 },
 "nbformat": 4,
 "nbformat_minor": 5
}
