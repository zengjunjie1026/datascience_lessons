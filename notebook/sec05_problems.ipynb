{
 "cells": [
  {
   "cell_type": "markdown",
   "metadata": {},
   "source": [
    "## Section 05 Bayesian Inference"
   ]
  },
  {
   "cell_type": "code",
   "execution_count": 2,
   "metadata": {},
   "outputs": [],
   "source": [
    "import numpy as np\n",
    "import scipy.stats as stat\n",
    "import matplotlib.pyplot as plt"
   ]
  },
  {
   "cell_type": "markdown",
   "metadata": {},
   "source": [
    "### Background\n",
    "A bank manager discovers that the bank's clients always are late for their appointments. The manager believes the clients' delays are exponentially distributed with unknown rate $\\lambda$. He wants to perform Bayesian inference to estimate $\\lambda$."
   ]
  },
  {
   "cell_type": "markdown",
   "metadata": {},
   "source": [
    "### Data Collection\n",
    "The bank manager takes the following delay samples. You can assume the samples $y_i$ are i.i.d. exponentially distributed with unknown parameter $\\lambda$:\n",
    "\n",
    "$$y_i \\sim \\text{Exp}(\\lambda)$$"
   ]
  },
  {
   "cell_type": "code",
   "execution_count": 3,
   "metadata": {},
   "outputs": [
    {
     "data": {
      "image/png": "[encoded data removed]",
      "text/plain": [
       "<Figure size 432x288 with 1 Axes>"
      ]
     },
     "metadata": {
      "needs_background": "light"
     },
     "output_type": "display_data"
    },
    {
     "name": "stdout",
     "output_type": "stream",
     "text": [
      "Sample size:  250\n"
     ]
    }
   ],
   "source": [
    "y = np.loadtxt('sec05.csv')\n",
    "plt.hist(y)\n",
    "plt.xlabel('Time (Minutes)')\n",
    "plt.ylabel('Frequency')\n",
    "plt.title('Histogram')\n",
    "plt.show()\n",
    "print('Sample size: ', len(y))"
   ]
  },
  {
   "cell_type": "markdown",
   "metadata": {},
   "source": [
    "### Bayesian Model Setup\n",
    "The bank manager wants to get some prior knowledge of the unknown parameter $\\lambda$.\n",
    "\n",
    "He asks the head of the bank, \"Can you give me some information about the delay rate?\"\n",
    "\n",
    "The head of the bank replies, \"I believe the delay rate $\\lambda$ is gamma-distributed with $\\alpha = 2$ and $\\beta = 2$.\"\n",
    " --- -------------------------------------------------------------------------------------------\n",
    "With the above information, the bank manager sets up a Bayesian model. **The prior density** $p(\\lambda)$ in the model is a gamma density with alpha=2 and beta=2. That is \n",
    "\n",
    "$$p(\\lambda) = \\frac{\\lambda^{\\alpha-1}e^{-\\beta\\lambda}\\beta^{\\alpha}}{\\Gamma(\\alpha)}$$\n",
    "\n",
    "**The likelihood density** $p(y|\\lambda)$ in the model is the density of an IID sample from an $\\text{Exp}(\\lambda)$ distribution:\n",
    "\n",
    "$$p(y|\\lambda) = \\prod_{i=1}^{n}p(y_i|\\lambda)$$\n",
    "\n",
    "In the next cell, plot the prior and likelihood densities over the given support of $\\lambda$. You can use the in-built methods in scipy to compute these densities. **When using scipy.stats.gamma, $\\texttt{a}=\\alpha$, $\\texttt{scale} = 1/\\beta$**. **When using scipy.stats.expon, $\\texttt{scale} = 1/\\lambda$**."
   ]
  },
  {
   "cell_type": "code",
   "execution_count": 4,
   "metadata": {
    "scrolled": true
   },
   "outputs": [],
   "source": [
    "# given support of lambda\n",
    "support = np.linspace(1e-16, 10, 100)\n",
    "\n",
    "\n"
   ]
  },
  {
   "cell_type": "markdown",
   "metadata": {},
   "source": [
    "### Posterior Density\n",
    "Recall from Bayesian probability theory that the posterior density of $\\lambda$ given the sample is \n",
    "$$p(\\lambda|y) = \\frac{p(\\lambda)p(y|\\lambda)}{\\int p(\\lambda)p(y|\\lambda) d\\lambda }$$\n",
    "\n",
    "Help the bank manager. In the next cell:\n",
    "1. Compute the posterior density at each point in the support.\n",
    "2. Plot the density of a gamma distribution with $\\alpha^{*} = 2 + \\text{len}(y)$, $\\beta^{*} = 2 + \\text{sum}(y)$ overlaid with points for the posterior density evaluated on `support`.\n",
    "3. What can you observe?"
   ]
  },
  {
   "cell_type": "code",
   "execution_count": null,
   "metadata": {
    "scrolled": false
   },
   "outputs": [],
   "source": [
    "\n",
    "\n"
   ]
  },
  {
   "cell_type": "markdown",
   "metadata": {},
   "source": [
    "### Detour: [Conjugate Prior](https://en.wikipedia.org/wiki/Conjugate_prior)\n",
    "\n",
    "In Bayesian probability theory, if the posterior distribution is in the same family as the prior distribution, the prior and posterior distributions are called conjugate.\n",
    "\n",
    "**Question: Why does conjugacy matter?**\n",
    "It lets us update the posterior distribution using new data very easily!"
   ]
  },
  {
   "cell_type": "markdown",
   "metadata": {},
   "source": [
    "## Estimation of Unknown Parameter\n",
    "With the posterior density, the bank manager can estimate the unknown parameter $\\lambda$. In this part, we will explore two [Bayesian estimators](https://en.wikipedia.org/wiki/Bayes_estimator)."
   ]
  },
  {
   "cell_type": "markdown",
   "metadata": {},
   "source": [
    "### MAP estimator\n",
    "A common Bayesian estimator is the maximum a posteriori or MAP estimator:\n",
    "\n",
    "$$\\hat{\\lambda}_{\\text{MAP}} = \\underset{\\lambda}{\\text{argmax}} \\ P(\\lambda|y) = \\underset{\\lambda}{\\text{argmax}} \\ \\log P(\\lambda|y)$$\n",
    "\n",
    "We already know the posterior is Gamma($\\tilde{\\alpha},\\tilde{\\beta})$:\n",
    "$$p(\\lambda|y) = \\frac{\\lambda^{\\tilde{\\alpha}-1}e^{-\\tilde{\\beta}\\lambda}\\beta^{\\tilde{\\alpha}}}{\\Gamma(\\tilde{\\alpha})}$$\n",
    "where $\\tilde{\\alpha} = 2+\\text{len}(y)$, $\\tilde{\\beta} = 2+\\text{sum}(y)$.\n",
    "\n",
    "Help the manager and compute $\\hat{\\lambda}_{\\text{MAP}}$."
   ]
  },
  {
   "cell_type": "code",
   "execution_count": null,
   "metadata": {},
   "outputs": [],
   "source": [
    "\n",
    "\n"
   ]
  },
  {
   "cell_type": "markdown",
   "metadata": {},
   "source": [
    "### MMSE estimator\n",
    "Another famous Bayesian estimator is the minimum mean squared error estimator (also called Bayesian least square estimator). In our model, the BLS estimator for $\\lambda$ is\n",
    "\n",
    "$$\\hat{\\lambda}_{BLS} = E[\\lambda|y]$$\n",
    "\n",
    "Compute the BLS estimator for $\\lambda$ in the next cell."
   ]
  },
  {
   "cell_type": "code",
   "execution_count": null,
   "metadata": {},
   "outputs": [],
   "source": [
    "\n",
    "\n"
   ]
  },
  {
   "cell_type": "markdown",
   "metadata": {},
   "source": [
    "## Importance Sampling\n",
    "\n",
    "We have seen that the posterior density is crucial for Bayesian inference. However, in practice, it can be hard to compute the posterior density because of the normalization in the denominator of its formula. \n",
    "\n",
    "Fortunately, we do not always need to know the true posterior density. We can still do a lot if we can get the expectation of the posterior distribution, or at least an approximation thereof.\n",
    "\n",
    "---------- --------------------------------------------------------------------------------------\n",
    "\n",
    "In the following cell, try to use importance sampling to compute the expectation of the posterior distribution. Importance sampling can be described as follows.\n",
    "\n",
    "Let $q(\\lambda)$ be a proposal density and $p(\\lambda | y)$ be the target posterior density. Let $p_0(\\lambda | y)$ be the unnormalized posterior density, which is easy to compute:\n",
    "\n",
    "$$p_0(\\lambda | y) = p(\\lambda) p(y | \\lambda)$$\n",
    "\n",
    "Under this setup, the expectation of the posterior distribution can be approximated as\n",
    "\n",
    "$$E[\\lambda|y] \\approx \\sum_{i} \\frac{w(\\lambda_i)}{\\sum_j w(\\lambda_j)} \\lambda_i$$\n",
    "\n",
    "where $\\lambda_i$ are samples from the proposal distribution, and $w(\\lambda_i)$ are the importance weights\n",
    "\n",
    "$$w(\\lambda_i) = \\frac{p_0(\\lambda_i | y)}{q(\\lambda_i)}$$\n",
    "\n",
    "Here, take the proposal distribution as a uniform[0,4] distribution. **Note: When generating samples from the proposal distribution, please set random_state = 636**\n",
    "\n",
    "(See the first page of `sec06_importance_sampling.pdf` for more context on importance sampling. Equation (4) gives the formula we want to implement.)"
   ]
  },
  {
   "cell_type": "code",
   "execution_count": null,
   "metadata": {},
   "outputs": [],
   "source": [
    "\n",
    "\n"
   ]
  }
 ],
 "metadata": {
  "kernelspec": {
   "display_name": "Python 3 (ipykernel)",
   "language": "python",
   "name": "python3"
  },
  "language_info": {
   "codemirror_mode": {
    "name": "ipython",
    "version": 3
   },
   "file_extension": ".py",
   "mimetype": "text/x-python",
   "name": "python",
   "nbconvert_exporter": "python",
   "pygments_lexer": "ipython3",
   "version": "3.8.10"
  }
 },
 "nbformat": 4,
 "nbformat_minor": 2
}
