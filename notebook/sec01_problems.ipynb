{
 "cells": [
  {
   "cell_type": "markdown",
   "id": "6dbcb1a3",
   "metadata": {},
   "source": [
    "# 1 Descriptive Statistics"
   ]
  },
  {
   "cell_type": "markdown",
   "id": "f9586d32",
   "metadata": {},
   "source": [
    "## 1.0\n",
    "\n",
    "We will load data on monthly stock returns from 1926 to 2021 and store it in a numpy array for you. Run the following cell."
   ]
  },
  {
   "cell_type": "code",
   "execution_count": 1,
   "id": "bf1fefee",
   "metadata": {},
   "outputs": [
    {
     "name": "stdout",
     "output_type": "stream",
     "text": [
      "--2022-04-23 18:50:44--  https://mba.tuck.dartmouth.edu/pages/faculty/ken.french/ftp/F-F_Research_Data_Factors_CSV.zip\n",
      "正在解析主机 mba.tuck.dartmouth.edu (mba.tuck.dartmouth.edu)... 129.170.171.144\n",
      "正在连接 mba.tuck.dartmouth.edu (mba.tuck.dartmouth.edu)|129.170.171.144|:443... 已连接。\n",
      "已发出 HTTP 请求，正在等待回应... 200 OK\n",
      "长度：12579 (12K) [application/x-zip-compressed]\n",
      "正在保存至: “F-F_Research_Data_Factors_CSV.zip.1”\n",
      "\n",
      "F-F_Research_Data_F 100%[===================>]  12.28K  --.-KB/s  用时 0.03s     \n",
      "\n",
      "2022-04-23 18:50:46 (374 KB/s) - 已保存 “F-F_Research_Data_Factors_CSV.zip.1” [12579/12579])\n",
      "\n"
     ]
    }
   ],
   "source": [
    "!wget https://mba.tuck.dartmouth.edu/pages/faculty/ken.french/ftp/F-F_Research_Data_Factors_CSV.zip"
   ]
  },
  {
   "cell_type": "code",
   "execution_count": 4,
   "id": "116d7bfe",
   "metadata": {
    "scrolled": true
   },
   "outputs": [
    {
     "ename": "NameError",
     "evalue": "name 'csv' is not defined",
     "output_type": "error",
     "traceback": [
      "\u001b[0;31m---------------------------------------------------------------------------\u001b[0m",
      "\u001b[0;31mNameError\u001b[0m                                 Traceback (most recent call last)",
      "\u001b[0;32m/var/folders/m3/xkyv91gd4znd3x_xgcz6hfzm0000gn/T/ipykernel_38534/2138204692.py\u001b[0m in \u001b[0;36m<module>\u001b[0;34m\u001b[0m\n\u001b[1;32m     24\u001b[0m \u001b[0;31m# Read specified number of rows from CSV with line 2 as header.\u001b[0m\u001b[0;34m\u001b[0m\u001b[0;34m\u001b[0m\u001b[0m\n\u001b[1;32m     25\u001b[0m \u001b[0;31m# Note that knowing which lines to read requires you to have viewed the CSV by another means (e.g. Excel).\u001b[0m\u001b[0;34m\u001b[0m\u001b[0;34m\u001b[0m\u001b[0m\n\u001b[0;32m---> 26\u001b[0;31m \u001b[0mdf1\u001b[0m \u001b[0;34m=\u001b[0m \u001b[0mpd\u001b[0m\u001b[0;34m.\u001b[0m\u001b[0mread_csv\u001b[0m\u001b[0;34m(\u001b[0m\u001b[0mcsv\u001b[0m\u001b[0;34m,\u001b[0m \u001b[0mheader\u001b[0m\u001b[0;34m=\u001b[0m\u001b[0;36m2\u001b[0m\u001b[0;34m,\u001b[0m \u001b[0mnrows\u001b[0m\u001b[0;34m=\u001b[0m\u001b[0;36m1140\u001b[0m\u001b[0;34m)\u001b[0m\u001b[0;34m\u001b[0m\u001b[0;34m\u001b[0m\u001b[0m\n\u001b[0m\u001b[1;32m     27\u001b[0m \u001b[0;34m\u001b[0m\u001b[0m\n\u001b[1;32m     28\u001b[0m \u001b[0;31m# Store the stock return variable values in a Numpy array.\u001b[0m\u001b[0;34m\u001b[0m\u001b[0;34m\u001b[0m\u001b[0m\n",
      "\u001b[0;31mNameError\u001b[0m: name 'csv' is not defined"
     ]
    }
   ],
   "source": [
    "# Module for arrays.\n",
    "import numpy as np\n",
    "# numpy模块，矩阵计算工具\n",
    "# Module for dataframe manipulation.\n",
    "import pandas as pd\n",
    "# pandas模块，数据分析工具\n",
    "# Function for downloading from URLs.\n",
    "from urllib import request \n",
    "## 请求网络数据的模块\n",
    "# Function for constructing interface with ZIP files.\n",
    "from zipfile import ZipFile \n",
    "# 解压缩模块\n",
    "\n",
    " # URL of ZIP archive with data.\n",
    "link = 'https://mba.tuck.dartmouth.edu/pages/faculty/ken.french/ftp/F-F_Research_Data_Factors_CSV.zip'\n",
    "# Name of local file where ZIP will be stored.\n",
    "temp = 'F-F_Research_Data_Factors_CSV.zip' \n",
    "# Retrieve ZIP file from 'link' and store in local file named 'temp'.\n",
    "request.urlretrieve(link, temp) \n",
    "# Construct interface with ZIP file.\n",
    "archive = ZipFile(temp) \n",
    "# Load the CSV file in the ZIP archive.\n",
    "# b\n",
    "# Read specified number of rows from CSV with line 2 as header.\n",
    "# Note that knowing which lines to read requires you to have viewed the CSV by another means (e.g. Excel).\n",
    "df1 = pd.read_csv(csv, header=2, nrows=1140) \n",
    "\n",
    "# Store the stock return variable values in a Numpy array.\n",
    "stocks = df1['Mkt-RF'].values\n",
    "# Print a preview of the 'stocks' variable.\n",
    "print(stocks)\n",
    "# Print the type of the 'stocks' variable.\n",
    "print(type(stocks))"
   ]
  },
  {
   "cell_type": "code",
   "execution_count": 2,
   "id": "59a55c41",
   "metadata": {},
   "outputs": [
    {
     "ename": "NameError",
     "evalue": "name 'ZipFile' is not defined",
     "output_type": "error",
     "traceback": [
      "\u001b[0;31m---------------------------------------------------------------------------\u001b[0m",
      "\u001b[0;31mNameError\u001b[0m                                 Traceback (most recent call last)",
      "\u001b[0;32m/var/folders/m3/xkyv91gd4znd3x_xgcz6hfzm0000gn/T/ipykernel_38534/3529770123.py\u001b[0m in \u001b[0;36m<module>\u001b[0;34m\u001b[0m\n\u001b[0;32m----> 1\u001b[0;31m \u001b[0marchive\u001b[0m \u001b[0;34m=\u001b[0m \u001b[0mZipFile\u001b[0m\u001b[0;34m(\u001b[0m\u001b[0mtemp\u001b[0m\u001b[0;34m)\u001b[0m\u001b[0;34m\u001b[0m\u001b[0;34m\u001b[0m\u001b[0m\n\u001b[0m",
      "\u001b[0;31mNameError\u001b[0m: name 'ZipFile' is not defined"
     ]
    }
   ],
   "source": [
    "archive = ZipFile(temp) "
   ]
  },
  {
   "cell_type": "code",
   "execution_count": 7,
   "id": "d64912bd",
   "metadata": {},
   "outputs": [],
   "source": [
    "df1 = pd.read_csv(csv, header=2, nrows=1140) "
   ]
  },
  {
   "cell_type": "code",
   "execution_count": 9,
   "id": "0024cf5c",
   "metadata": {},
   "outputs": [
    {
     "data": {
      "text/html": [
       "<div>\n",
       "<style scoped>\n",
       "    .dataframe tbody tr th:only-of-type {\n",
       "        vertical-align: middle;\n",
       "    }\n",
       "\n",
       "    .dataframe tbody tr th {\n",
       "        vertical-align: top;\n",
       "    }\n",
       "\n",
       "    .dataframe thead th {\n",
       "        text-align: right;\n",
       "    }\n",
       "</style>\n",
       "<table border=\"1\" class=\"dataframe\">\n",
       "  <thead>\n",
       "    <tr style=\"text-align: right;\">\n",
       "      <th></th>\n",
       "      <th>Unnamed: 0</th>\n",
       "      <th>Mkt-RF</th>\n",
       "      <th>SMB</th>\n",
       "      <th>HML</th>\n",
       "      <th>RF</th>\n",
       "    </tr>\n",
       "  </thead>\n",
       "  <tbody>\n",
       "    <tr>\n",
       "      <th>0</th>\n",
       "      <td>192607</td>\n",
       "      <td>2.96</td>\n",
       "      <td>-2.38</td>\n",
       "      <td>-2.73</td>\n",
       "      <td>0.22</td>\n",
       "    </tr>\n",
       "    <tr>\n",
       "      <th>1</th>\n",
       "      <td>192608</td>\n",
       "      <td>2.64</td>\n",
       "      <td>-1.47</td>\n",
       "      <td>4.14</td>\n",
       "      <td>0.25</td>\n",
       "    </tr>\n",
       "    <tr>\n",
       "      <th>2</th>\n",
       "      <td>192609</td>\n",
       "      <td>0.36</td>\n",
       "      <td>-1.39</td>\n",
       "      <td>0.12</td>\n",
       "      <td>0.23</td>\n",
       "    </tr>\n",
       "    <tr>\n",
       "      <th>3</th>\n",
       "      <td>192610</td>\n",
       "      <td>-3.24</td>\n",
       "      <td>-0.13</td>\n",
       "      <td>0.65</td>\n",
       "      <td>0.32</td>\n",
       "    </tr>\n",
       "    <tr>\n",
       "      <th>4</th>\n",
       "      <td>192611</td>\n",
       "      <td>2.53</td>\n",
       "      <td>-0.16</td>\n",
       "      <td>-0.38</td>\n",
       "      <td>0.31</td>\n",
       "    </tr>\n",
       "    <tr>\n",
       "      <th>...</th>\n",
       "      <td>...</td>\n",
       "      <td>...</td>\n",
       "      <td>...</td>\n",
       "      <td>...</td>\n",
       "      <td>...</td>\n",
       "    </tr>\n",
       "    <tr>\n",
       "      <th>1135</th>\n",
       "      <td>202102</td>\n",
       "      <td>2.78</td>\n",
       "      <td>1.97</td>\n",
       "      <td>7.20</td>\n",
       "      <td>0.00</td>\n",
       "    </tr>\n",
       "    <tr>\n",
       "      <th>1136</th>\n",
       "      <td>202103</td>\n",
       "      <td>3.08</td>\n",
       "      <td>-2.37</td>\n",
       "      <td>7.32</td>\n",
       "      <td>0.00</td>\n",
       "    </tr>\n",
       "    <tr>\n",
       "      <th>1137</th>\n",
       "      <td>202104</td>\n",
       "      <td>4.93</td>\n",
       "      <td>-3.13</td>\n",
       "      <td>-0.99</td>\n",
       "      <td>0.00</td>\n",
       "    </tr>\n",
       "    <tr>\n",
       "      <th>1138</th>\n",
       "      <td>202105</td>\n",
       "      <td>0.29</td>\n",
       "      <td>-0.24</td>\n",
       "      <td>7.03</td>\n",
       "      <td>0.00</td>\n",
       "    </tr>\n",
       "    <tr>\n",
       "      <th>1139</th>\n",
       "      <td>202106</td>\n",
       "      <td>2.75</td>\n",
       "      <td>1.75</td>\n",
       "      <td>-7.81</td>\n",
       "      <td>0.00</td>\n",
       "    </tr>\n",
       "  </tbody>\n",
       "</table>\n",
       "<p>1140 rows × 5 columns</p>\n",
       "</div>"
      ],
      "text/plain": [
       "      Unnamed: 0  Mkt-RF   SMB   HML    RF\n",
       "0         192607    2.96 -2.38 -2.73  0.22\n",
       "1         192608    2.64 -1.47  4.14  0.25\n",
       "2         192609    0.36 -1.39  0.12  0.23\n",
       "3         192610   -3.24 -0.13  0.65  0.32\n",
       "4         192611    2.53 -0.16 -0.38  0.31\n",
       "...          ...     ...   ...   ...   ...\n",
       "1135      202102    2.78  1.97  7.20  0.00\n",
       "1136      202103    3.08 -2.37  7.32  0.00\n",
       "1137      202104    4.93 -3.13 -0.99  0.00\n",
       "1138      202105    0.29 -0.24  7.03  0.00\n",
       "1139      202106    2.75  1.75 -7.81  0.00\n",
       "\n",
       "[1140 rows x 5 columns]"
      ]
     },
     "execution_count": 9,
     "metadata": {},
     "output_type": "execute_result"
    }
   ],
   "source": [
    "df1"
   ]
  },
  {
   "cell_type": "markdown",
   "id": "8b0ee402",
   "metadata": {},
   "source": [
    "## 1.1\n",
    "\n",
    "SciPy and NumPy have functions for computing sample\n",
    "\n",
    "- mean\n",
    "- variance\n",
    "- standard deviation\n",
    "- skewness\n",
    "- kurtosis\n",
    "- quantiles\n",
    "\n",
    "As an exercise, implement your own functions for these descriptive statistics. The functions should be designed to operate on a one-dimensional $\\texttt{ndarray}$. You may use other Scipy and Numpy functions in your implementations.  Apply your functions to the $\\texttt{stocks}$ data to test them out."
   ]
  },
  {
   "cell_type": "code",
   "execution_count": 5,
   "id": "a065162c",
   "metadata": {},
   "outputs": [],
   "source": [
    "csv = archive.open('F-F_Research_Data_Factors.CSV') "
   ]
  },
  {
   "cell_type": "code",
   "execution_count": 6,
   "id": "20cf0d43",
   "metadata": {},
   "outputs": [
    {
     "data": {
      "text/plain": [
       "<zipfile.ZipExtFile name='F-F_Research_Data_Factors.CSV' mode='r' compress_type=deflate>"
      ]
     },
     "execution_count": 6,
     "metadata": {},
     "output_type": "execute_result"
    }
   ],
   "source": [
    "csv"
   ]
  },
  {
   "cell_type": "code",
   "execution_count": 13,
   "id": "54a5e3d1",
   "metadata": {},
   "outputs": [
    {
     "ename": "AttributeError",
     "evalue": "'DataFrame' object has no attribute 'describle'",
     "output_type": "error",
     "traceback": [
      "\u001b[0;31m---------------------------------------------------------------------------\u001b[0m",
      "\u001b[0;31mAttributeError\u001b[0m                            Traceback (most recent call last)",
      "\u001b[0;32m/var/folders/gw/nlwybk3j1xg2460c9jy7tm900000gn/T/ipykernel_3007/2433856352.py\u001b[0m in \u001b[0;36m<module>\u001b[0;34m\u001b[0m\n\u001b[0;32m----> 1\u001b[0;31m \u001b[0mdf1\u001b[0m\u001b[0;34m.\u001b[0m\u001b[0mdescrible\u001b[0m\u001b[0;34m\u001b[0m\u001b[0;34m\u001b[0m\u001b[0m\n\u001b[0m",
      "\u001b[0;32m/Library/Frameworks/Python.framework/Versions/3.8/lib/python3.8/site-packages/pandas/core/generic.py\u001b[0m in \u001b[0;36m__getattr__\u001b[0;34m(self, name)\u001b[0m\n\u001b[1;32m   5581\u001b[0m         ):\n\u001b[1;32m   5582\u001b[0m             \u001b[0;32mreturn\u001b[0m \u001b[0mself\u001b[0m\u001b[0;34m[\u001b[0m\u001b[0mname\u001b[0m\u001b[0;34m]\u001b[0m\u001b[0;34m\u001b[0m\u001b[0;34m\u001b[0m\u001b[0m\n\u001b[0;32m-> 5583\u001b[0;31m         \u001b[0;32mreturn\u001b[0m \u001b[0mobject\u001b[0m\u001b[0;34m.\u001b[0m\u001b[0m__getattribute__\u001b[0m\u001b[0;34m(\u001b[0m\u001b[0mself\u001b[0m\u001b[0;34m,\u001b[0m \u001b[0mname\u001b[0m\u001b[0;34m)\u001b[0m\u001b[0;34m\u001b[0m\u001b[0;34m\u001b[0m\u001b[0m\n\u001b[0m\u001b[1;32m   5584\u001b[0m \u001b[0;34m\u001b[0m\u001b[0m\n\u001b[1;32m   5585\u001b[0m     \u001b[0;32mdef\u001b[0m \u001b[0m__setattr__\u001b[0m\u001b[0;34m(\u001b[0m\u001b[0mself\u001b[0m\u001b[0;34m,\u001b[0m \u001b[0mname\u001b[0m\u001b[0;34m:\u001b[0m \u001b[0mstr\u001b[0m\u001b[0;34m,\u001b[0m \u001b[0mvalue\u001b[0m\u001b[0;34m)\u001b[0m \u001b[0;34m->\u001b[0m \u001b[0;32mNone\u001b[0m\u001b[0;34m:\u001b[0m\u001b[0;34m\u001b[0m\u001b[0;34m\u001b[0m\u001b[0m\n",
      "\u001b[0;31mAttributeError\u001b[0m: 'DataFrame' object has no attribute 'describle'"
     ]
    }
   ],
   "source": [
    "df1."
   ]
  },
  {
   "cell_type": "markdown",
   "id": "c92c1737",
   "metadata": {},
   "source": [
    "## 1.2\n",
    "\n",
    "Apply the corresponding SciPy or NumPy functions. Do your functions give different results? If so, are your implementations incorrect, or can you adjust some parameters of the SciPy or NumPy functions to give the same results?"
   ]
  },
  {
   "cell_type": "code",
   "execution_count": null,
   "id": "2e7eedcf",
   "metadata": {},
   "outputs": [],
   "source": []
  },
  {
   "cell_type": "markdown",
   "id": "3da9eeb9",
   "metadata": {},
   "source": [
    "## 1.3\n",
    "\n",
    "The normal distribution is commonly used to model natural and social phenomena. Investigate whether the hypothesis that the historical stock return is normally distributed is plausible as follows:\n",
    "\n",
    "- Simulate draws from a normal distribution with the same mean and standard deviation as the stock returns. For the number of draws, use the number of stock return observations. Use a seed of 0.\n",
    "- Compare descriptive statistics from the simulated data to the descriptive statistics of the stock returns.\n",
    "- Comment on similarities and differences. Give a judgment as to whether the hypothesis that the historical stock return is normally distributed is plausible."
   ]
  },
  {
   "cell_type": "code",
   "execution_count": null,
   "id": "4e6e9087",
   "metadata": {},
   "outputs": [],
   "source": []
  },
  {
   "cell_type": "markdown",
   "id": "cf23de18",
   "metadata": {},
   "source": [
    "# 2 Visualizing Probability Distributions\n",
    "A $\\text{binomial}(n, p)$ distribution converges to a normal $\\mathcal{N}\\left(np, np(1-p)\\right)$ distribution as $n$ increases. Write a procedure that demonstrates the convergence. The procedure should do the following:\n",
    "\n",
    "- Take $n$ and $p$ as input.\n",
    "- Plot the PMF of a $\\text{binom}(n,p)$ random variable.\n",
    "- Plot, over the PMF, the PDF of a normal random variable with mean $np$ and standard deviation $\\sqrt{np(1-p)}$.\n",
    "\n",
    "When you get procedure working, run it with small and then increasing values of $n$ for fixed $p$. Note how in the output plot the binomial PMF gets closer to the normal PDF as you increase $n$."
   ]
  },
  {
   "cell_type": "code",
   "execution_count": null,
   "id": "21d66115",
   "metadata": {},
   "outputs": [],
   "source": []
  }
 ],
 "metadata": {
  "kernelspec": {
   "display_name": "Python 3 (ipykernel)",
   "language": "python",
   "name": "python3"
  },
  "language_info": {
   "codemirror_mode": {
    "name": "ipython",
    "version": 3
   },
   "file_extension": ".py",
   "mimetype": "text/x-python",
   "name": "python",
   "nbconvert_exporter": "python",
   "pygments_lexer": "ipython3",
   "version": "3.9.7"
  }
 },
 "nbformat": 4,
 "nbformat_minor": 5
}
