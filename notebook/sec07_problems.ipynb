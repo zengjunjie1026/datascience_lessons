{
 "cells": [
  {
   "cell_type": "markdown",
   "id": "d5124db3",
   "metadata": {},
   "source": [
    "# Section 07: Cross-Validation & Introduction to Trees."
   ]
  },
  {
   "cell_type": "markdown",
   "id": "6b49b0f3",
   "metadata": {},
   "source": [
    "## 1 Cross-Validation"
   ]
  },
  {
   "cell_type": "markdown",
   "id": "4b5c0c02",
   "metadata": {},
   "source": [
    "### 1.1  \n",
    "What are two uses for cross-validation?"
   ]
  },
  {
   "cell_type": "markdown",
   "id": "ca4139cb",
   "metadata": {},
   "source": [
    "### Answer: \n"
   ]
  },
  {
   "cell_type": "markdown",
   "id": "d70220ca",
   "metadata": {},
   "source": [
    "### 1.2"
   ]
  },
  {
   "cell_type": "markdown",
   "id": "33670d99",
   "metadata": {},
   "source": [
    "Recall the process of $k$-fold cross-validation:\n",
    "\n",
    "1. Create a $k$-partition of the training data. E.g., $k=2$ yields two folds.\n",
    "2. Pick a single fold for testing and train on the union of the other $k-1$ folds. \n",
    "3. Repeat for all $k$ folds — requires $k$ trainings.\n",
    "\n",
    "Leave-one-out cross-validation is a special case with $k=n$ where $n$ is the size of the full training set."
   ]
  },
  {
   "cell_type": "markdown",
   "id": "89874288",
   "metadata": {},
   "source": [
    "<img src=https://scikit-learn.org/stable/_images/grid_search_cross_validation.png alt=\"image info\" width=\"500\" />"
   ]
  },
  {
   "cell_type": "markdown",
   "id": "371fd290",
   "metadata": {},
   "source": [
    "Use the [KFold function in sklearn.model_selection](https://scikit-learn.org/stable/modules/generated/sklearn.model_selection.KFold.html) to calculate 8-fold cross-validation scores for LDA on the Iris dataset. For the score, use `correct predictions / total predictions`."
   ]
  },
  {
   "cell_type": "code",
   "execution_count": null,
   "id": "b9d3a667",
   "metadata": {},
   "outputs": [],
   "source": []
  },
  {
   "cell_type": "markdown",
   "id": "ea29ceac",
   "metadata": {},
   "source": [
    "### Problem 1.3"
   ]
  },
  {
   "cell_type": "markdown",
   "id": "77aa53a4",
   "metadata": {},
   "source": [
    "Now use the [cross_val_score function in sklearn](https://scikit-learn.org/stable/modules/generated/sklearn.model_selection.cross_val_score.html) to calculate the 8-fold cross-validation scores of LDA on the Iris dataset. Are the results the same as in Problem 1.2? If not, why?"
   ]
  },
  {
   "cell_type": "code",
   "execution_count": null,
   "id": "8c5d5b39",
   "metadata": {},
   "outputs": [],
   "source": []
  },
  {
   "cell_type": "markdown",
   "id": "cd8157da",
   "metadata": {},
   "source": [
    "### Answer:\n"
   ]
  },
  {
   "cell_type": "markdown",
   "id": "757c6832",
   "metadata": {},
   "source": [
    "## 2. Introduction to Trees"
   ]
  },
  {
   "cell_type": "markdown",
   "id": "8197826c",
   "metadata": {},
   "source": [
    "### Problem 2.1"
   ]
  },
  {
   "cell_type": "markdown",
   "id": "7f8c53c1",
   "metadata": {},
   "source": [
    "Using sklearn's [decision tree](https://scikit-learn.org/stable/modules/tree.html#tree) module, perform classification on the Iris data. Use sepal length and sepal width as predictors, and set max_depth=2. Use [tree.plot_tree(classifer,filled=True)](https://scikit-learn.org/stable/modules/generated/sklearn.tree.plot_tree.html) to visualize the tree."
   ]
  },
  {
   "cell_type": "code",
   "execution_count": null,
   "id": "48ebccb3",
   "metadata": {},
   "outputs": [],
   "source": []
  },
  {
   "cell_type": "markdown",
   "id": "02f1ca47",
   "metadata": {},
   "source": [
    "### Problem 2.2"
   ]
  },
  {
   "cell_type": "markdown",
   "id": "5137ef26",
   "metadata": {},
   "source": [
    "We classify the observations $D$ at given node to the class $k^* = \\operatorname{argmax}_{k=1}^K \\hat{p}_k$ where $K$ is the number of classes and\n",
    "\n",
    "$$\\displaystyle \\hat{p}_k = \\frac{1}{\\lvert D \\rvert} \\sum_{x_i\\in D} I(x_i=k)$$\n",
    "\n",
    "The Gini impurity of the observations in $D$ is\n",
    "\n",
    "$$\\displaystyle H(D) = \\sum_{k=1}^K \\hat{p}_k (1-\\hat{p}_k)$$\n",
    "\n",
    "In the tree of Problem 2.1, how do the Gini values change between nodes? Why do these changes occur?"
   ]
  },
  {
   "cell_type": "markdown",
   "id": "d52d1e2a",
   "metadata": {},
   "source": [
    "### Answer:\n"
   ]
  },
  {
   "cell_type": "markdown",
   "id": "9d352269",
   "metadata": {},
   "source": [
    "### Problem 2.3"
   ]
  },
  {
   "cell_type": "markdown",
   "id": "2c23d40d",
   "metadata": {},
   "source": [
    "Using sklearn, calculate the feature importances of the two predictors in the tree of Problem 2.1. What does \"feature importance\" mean here?"
   ]
  },
  {
   "cell_type": "code",
   "execution_count": null,
   "id": "b67fccbb",
   "metadata": {
    "scrolled": true
   },
   "outputs": [],
   "source": []
  },
  {
   "cell_type": "markdown",
   "id": "79c58c51",
   "metadata": {},
   "source": [
    "### Answer:"
   ]
  }
 ],
 "metadata": {
  "kernelspec": {
   "display_name": "Python 3 (ipykernel)",
   "language": "python",
   "name": "python3"
  },
  "language_info": {
   "codemirror_mode": {
    "name": "ipython",
    "version": 3
   },
   "file_extension": ".py",
   "mimetype": "text/x-python",
   "name": "python",
   "nbconvert_exporter": "python",
   "pygments_lexer": "ipython3",
   "version": "3.8.10"
  }
 },
 "nbformat": 4,
 "nbformat_minor": 5
}
