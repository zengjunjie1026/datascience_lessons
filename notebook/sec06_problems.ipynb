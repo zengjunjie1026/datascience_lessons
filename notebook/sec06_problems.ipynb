{
 "cells": [
  {
   "cell_type": "markdown",
   "metadata": {},
   "source": [
    "# Section 6: LDA, QDA and Naive Bayes\n"
   ]
  },
  {
   "cell_type": "markdown",
   "metadata": {},
   "source": [
    "## 1\n",
    "In this section, we plan to use LDA, QDA as well as Naive Bayes methods to predict heart failure death caused by CVDs (cardiovascular diseases). Our models will use five predictive features: age, creatinine phosphokinase, ejection fraction, platelets, serum creatinine and serum sodium. The target will have labels 1 and 0 for death and no death.\n",
    "- More details on the dataset:\n",
    "[Heart Failure](https://www.kaggle.com/andrewmvd/heart-failure-clinical-data?select=heart_failure_clinical_records_dataset.csv)"
   ]
  },
  {
   "cell_type": "code",
   "execution_count": 1,
   "metadata": {},
   "outputs": [
    {
     "name": "stdout",
     "output_type": "stream",
     "text": [
      "      age  creatinine_phosphokinase  ejection_fraction  platelets  \\\n",
      "0    75.0                       582                 20  265000.00   \n",
      "1    55.0                      7861                 38  263358.03   \n",
      "2    65.0                       146                 20  162000.00   \n",
      "3    50.0                       111                 20  210000.00   \n",
      "4    65.0                       160                 20  327000.00   \n",
      "..    ...                       ...                ...        ...   \n",
      "294  62.0                        61                 38  155000.00   \n",
      "295  55.0                      1820                 38  270000.00   \n",
      "296  45.0                      2060                 60  742000.00   \n",
      "297  45.0                      2413                 38  140000.00   \n",
      "298  50.0                       196                 45  395000.00   \n",
      "\n",
      "     serum_creatinine  serum_sodium  \n",
      "0                 1.9           130  \n",
      "1                 1.1           136  \n",
      "2                 1.3           129  \n",
      "3                 1.9           137  \n",
      "4                 2.7           116  \n",
      "..                ...           ...  \n",
      "294               1.1           143  \n",
      "295               1.2           139  \n",
      "296               0.8           138  \n",
      "297               1.4           140  \n",
      "298               1.6           136  \n",
      "\n",
      "[299 rows x 6 columns]\n"
     ]
    }
   ],
   "source": [
    "# Load dataset.\n",
    "import pandas as pd\n",
    "import matplotlib.pyplot as plt\n",
    "import numpy as np\n",
    "\n",
    "heart_data=pd.read_csv('sec06.csv')\n",
    "heart_data.head(5)\n",
    "index=['age','creatinine_phosphokinase','ejection_fraction','platelets','serum_creatinine','serum_sodium']\n",
    "\n",
    "X_data=heart_data[index]\n",
    "print(X_data)\n",
    "y_data=heart_data.iloc[:,-1].values.ravel()"
   ]
  },
  {
   "cell_type": "markdown",
   "metadata": {},
   "source": [
    "## 1.1\n",
    "\n",
    "- Scale your data and split the data into a training and test dataset with 30% test size and random_state=0. \n",
    "- Next, fit LDA and QDA models to the training datasetand compare the models' performance on the test dataset using confusion matrices as well as prediction accuracy scores. \n",
    "- Finally, explain why your prediction accuracy scores are high or low. \n",
    "\n",
    "See more on confusion matrices here: [Confusion Matrix](https://scikit-learn.org/stable/modules/model_evaluation.html#confusion-matrix). See more on LDA/QDA here: [LDA/QDA](https://scikit-learn.org/stable/modules/lda_qda.html#lda-qda)."
   ]
  },
  {
   "cell_type": "code",
   "execution_count": null,
   "metadata": {},
   "outputs": [],
   "source": []
  },
  {
   "cell_type": "markdown",
   "metadata": {},
   "source": [
    "## 1.2\n",
    "\n",
    "- Re-train the LDA and QDA models based on the two features 'age' and 'ejection_fraction'\n",
    "- Plot the decision boundaries of both models with MAP thresholds 0.5.\n",
    "- Make a scatterplot of the test dataset and highlight those points whose prediction results are different between the LDA and QDA models."
   ]
  },
  {
   "cell_type": "code",
   "execution_count": null,
   "metadata": {},
   "outputs": [],
   "source": []
  },
  {
   "cell_type": "markdown",
   "metadata": {},
   "source": [
    "## 2.1\n",
    "- Normalize the data and split it into training and test sets with test_size=0.4 and random_state=636.\n",
    "- Manually fit a Naive Bayes model using two features: serum_creatinine and serum_sodium. Use a flat prior.\n",
    "- Print the model accuracy."
   ]
  },
  {
   "cell_type": "code",
   "execution_count": null,
   "metadata": {},
   "outputs": [],
   "source": []
  },
  {
   "cell_type": "markdown",
   "metadata": {},
   "source": [
    "## 2.2\n",
    "Plot the covariance matrix of all features and explain whether a Naive Bayes model built on all features would perform well."
   ]
  },
  {
   "cell_type": "code",
   "execution_count": null,
   "metadata": {},
   "outputs": [],
   "source": []
  }
 ],
 "metadata": {
  "kernelspec": {
   "display_name": "Python 3 (ipykernel)",
   "language": "python",
   "name": "python3"
  },
  "language_info": {
   "codemirror_mode": {
    "name": "ipython",
    "version": 3
   },
   "file_extension": ".py",
   "mimetype": "text/x-python",
   "name": "python",
   "nbconvert_exporter": "python",
   "pygments_lexer": "ipython3",
   "version": "3.8.10"
  }
 },
 "nbformat": 4,
 "nbformat_minor": 4
}
